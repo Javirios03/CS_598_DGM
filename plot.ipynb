{
 "cells": [
  {
   "cell_type": "code",
   "execution_count": 1,
   "id": "f8dd9251-1001-4047-84ea-cc1052b84e1e",
   "metadata": {},
   "outputs": [],
   "source": [
    "import torch\n",
    "import json\n",
    "import matplotlib.pyplot as plt\n",
    "from matplotlib import cm\n",
    "import os\n",
    "import ml_collections\n",
    "import numpy as np\n",
    "\n",
    "from data import MNISTDataset\n",
    "from torch.utils.data import DataLoader\n",
    "from model import SetFlowModule\n",
    "from config import create_config\n",
    "from flow_matching.path.scheduler import CondOTScheduler\n",
    "from flow_matching.path import AffineProbPath\n",
    "from flow_matching.solver import Solver, ODESolver"
   ]
  },
  {
   "cell_type": "code",
   "execution_count": 63,
   "id": "db86675d-1b8a-4a33-acda-354f8e6aa6ef",
   "metadata": {},
   "outputs": [],
   "source": [
    "ckpt_path = \"weights/20250404-173904/checkpoint-epoch=00.ckpt\"\n",
    "\n",
    "with open(os.path.join(\n",
    "        os.path.join(os.path.join(*ckpt_path.split(\"/\")[:2])), \"config.json\"), \n",
    "        \"r\"\n",
    "    ) as f:\n",
    "        config_dict = json.load(f)\n",
    "config = ml_collections.ConfigDict(config_dict)\n",
    "\n",
    "model = SetFlowModule.load_from_checkpoint(\n",
    "    config=config,\n",
    "    checkpoint_path=ckpt_path\n",
    ").to(\"cuda:0\")"
   ]
  },
  {
   "cell_type": "code",
   "execution_count": 11,
   "id": "f3c6004a-d128-4606-a5ab-f9e56c8c5698",
   "metadata": {},
   "outputs": [],
   "source": [
    "out = model.model.sample(500, device=\"cuda:\")"
   ]
  },
  {
   "cell_type": "code",
   "execution_count": 6,
   "id": "12af49cf-1821-4e78-9df6-1c875fc41a6b",
   "metadata": {},
   "outputs": [],
   "source": [
    "dataset = MNISTDataset()\n",
    "dataloader = DataLoader(dataset, batch_size=1, shuffle=True)\n",
    "sample = next(iter(dataloader))\n",
    "sample = sample.to(\"cuda:9\")\n",
    "\n",
    "# out = model.reconstruct(\n",
    "#     sample, \n",
    "#     batch_size=sample.shape[1],\n",
    "#     timesteps=10\n",
    "# )"
   ]
  },
  {
   "cell_type": "code",
   "execution_count": 67,
   "id": "03b2d702-c46b-43c0-a05f-6ccb73b2cf8b",
   "metadata": {},
   "outputs": [
    {
     "data": {
      "text/plain": [
       "<matplotlib.image.AxesImage at 0x7fc469b28650>"
      ]
     },
     "execution_count": 67,
     "metadata": {},
     "output_type": "execute_result"
    },
    {
     "data": {
      "image/png": "[encoded data removed]",
      "text/plain": [
       "<Figure size 640x480 with 1 Axes>"
      ]
     },
     "metadata": {},
     "output_type": "display_data"
    }
   ],
   "source": [
    "out = model.model.sample(500, device=\"cuda:0\")\n",
    "coords = out[0].detach().cpu().numpy()\n",
    "coords *= 63\n",
    "\n",
    "image = np.zeros((64, 64), dtype=np.float32)\n",
    "for (y, x) in coords.astype(int):\n",
    "    if 0 <= y < 64 and 0 <= x < 64:\n",
    "        image[y, x] = 1.0\n",
    "        \n",
    "plt.imshow(image)"
   ]
  },
  {
   "cell_type": "code",
   "execution_count": 7,
   "id": "6414536c-1444-4f5e-86c8-bace65dc7cc2",
   "metadata": {},
   "outputs": [
    {
     "data": {
      "text/plain": [
       "<matplotlib.image.AxesImage at 0x7fc50c87c2c0>"
      ]
     },
     "execution_count": 7,
     "metadata": {},
     "output_type": "execute_result"
    },
    {
     "data": {
      "image/png": "[encoded data removed]",
      "text/plain": [
       "<Figure size 640x480 with 1 Axes>"
      ]
     },
     "metadata": {},
     "output_type": "display_data"
    }
   ],
   "source": [
    "coords = sample[0].detach().cpu().numpy()\n",
    "coords *= 63\n",
    "\n",
    "image = np.zeros((64, 64), dtype=np.float32)\n",
    "for (y, x) in coords.astype(int):\n",
    "    if 0 <= y < 64 and 0 <= x < 64:\n",
    "        image[y, x] = 1.0\n",
    "        \n",
    "plt.imshow(image)"
   ]
  },
  {
   "cell_type": "code",
   "execution_count": 8,
   "id": "4fe4a8fe-bfad-4c8f-a5cc-f68fc12d3d0c",
   "metadata": {},
   "outputs": [
    {
     "ename": "TypeError",
     "evalue": "'Axes' object is not subscriptable",
     "output_type": "error",
     "traceback": [
      "\u001b[0;31m---------------------------------------------------------------------------\u001b[0m",
      "\u001b[0;31mTypeError\u001b[0m                                 Traceback (most recent call last)",
      "Cell \u001b[0;32mIn[8], line 16\u001b[0m\n\u001b[1;32m     13\u001b[0m     \u001b[38;5;28;01mif\u001b[39;00m \u001b[38;5;241m0\u001b[39m \u001b[38;5;241m<\u001b[39m\u001b[38;5;241m=\u001b[39m y \u001b[38;5;241m<\u001b[39m \u001b[38;5;241m28\u001b[39m \u001b[38;5;129;01mand\u001b[39;00m \u001b[38;5;241m0\u001b[39m \u001b[38;5;241m<\u001b[39m\u001b[38;5;241m=\u001b[39m x \u001b[38;5;241m<\u001b[39m \u001b[38;5;241m28\u001b[39m:\n\u001b[1;32m     14\u001b[0m         image[y, x] \u001b[38;5;241m=\u001b[39m \u001b[38;5;241m1.0\u001b[39m\n\u001b[0;32m---> 16\u001b[0m axes[idx]\u001b[38;5;241m.\u001b[39mimshow(image, cmap\u001b[38;5;241m=\u001b[39m\u001b[38;5;124m'\u001b[39m\u001b[38;5;124mgray\u001b[39m\u001b[38;5;124m'\u001b[39m)\n\u001b[1;32m     17\u001b[0m axes[idx]\u001b[38;5;241m.\u001b[39mset_title(\u001b[38;5;124mf\u001b[39m\u001b[38;5;124m\"\u001b[39m\u001b[38;5;124mTimestep \u001b[39m\u001b[38;5;132;01m{\u001b[39;00mt\u001b[38;5;132;01m}\u001b[39;00m\u001b[38;5;124m\"\u001b[39m)\n\u001b[1;32m     18\u001b[0m axes[idx]\u001b[38;5;241m.\u001b[39maxis(\u001b[38;5;124m'\u001b[39m\u001b[38;5;124moff\u001b[39m\u001b[38;5;124m'\u001b[39m)\n",
      "\u001b[0;31mTypeError\u001b[0m: 'Axes' object is not subscriptable"
     ]
    },
    {
     "data": {
      "image/png": "[encoded data removed]",
      "text/plain": [
       "<Figure size 200x200 with 1 Axes>"
      ]
     },
     "metadata": {},
     "output_type": "display_data"
    }
   ],
   "source": [
    "num_timesteps = out.shape[0]\n",
    "timesteps_to_plot = list(range(0, num_timesteps, 1))\n",
    "num_plots = len(timesteps_to_plot)\n",
    "\n",
    "fig, axes = plt.subplots(nrows=1, ncols=num_plots, figsize=(2 * num_plots, 2))\n",
    "\n",
    "for idx, t in enumerate(timesteps_to_plot):\n",
    "    coords = out[t].detach().cpu().numpy()\n",
    "    coords *= 27\n",
    "\n",
    "    image = np.zeros((28, 28), dtype=np.float32)\n",
    "    for (y, x) in coords.astype(int):\n",
    "        if 0 <= y < 28 and 0 <= x < 28:\n",
    "            image[y, x] = 1.0\n",
    "\n",
    "    axes[idx].imshow(image, cmap='gray')\n",
    "    axes[idx].set_title(f\"Timestep {t}\")\n",
    "    axes[idx].axis('off')\n",
    "\n",
    "plt.tight_layout()\n",
    "plt.show()\n"
   ]
  }
 ],
 "metadata": {
  "kernelspec": {
   "display_name": "msaflow",
   "language": "python",
   "name": "msaflow"
  },
  "language_info": {
   "codemirror_mode": {
    "name": "ipython",
    "version": 3
   },
   "file_extension": ".py",
   "mimetype": "text/x-python",
   "name": "python",
   "nbconvert_exporter": "python",
   "pygments_lexer": "ipython3",
   "version": "3.12.9"
  }
 },
 "nbformat": 4,
 "nbformat_minor": 5
}
